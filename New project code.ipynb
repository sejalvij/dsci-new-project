{
 "cells": [
  {
   "cell_type": "code",
   "execution_count": 8,
   "metadata": {},
   "outputs": [],
   "source": [
    "library(repr)\n",
    "library(tidyverse)\n",
    "library(tidymodels)\n",
    "library(dplyr)"
   ]
  },
  {
   "cell_type": "code",
   "execution_count": 9,
   "metadata": {},
   "outputs": [
    {
     "name": "stderr",
     "output_type": "stream",
     "text": [
      "Parsed with column specification:\n",
      "cols(\n",
      "  drink = \u001b[31mcol_character()\u001b[39m,\n",
      "  `Volume (ml)` = \u001b[32mcol_double()\u001b[39m,\n",
      "  Calories = \u001b[32mcol_double()\u001b[39m,\n",
      "  `Caffeine (mg)` = \u001b[32mcol_double()\u001b[39m,\n",
      "  type = \u001b[31mcol_character()\u001b[39m\n",
      ")\n",
      "\n"
     ]
    }
   ],
   "source": [
    "#for reproducability\n",
    "set.seed(1)\n",
    "\n",
    "#demonstrate the dataset can be read from the web into R\n",
    "caffeine <-read_csv(\"caffeine.csv\")\n",
    "\n",
    "#changing column names\n",
    "colnames(caffeine) <- make.names(colnames(caffeine))\n",
    "\n",
    "#creating the factor and selecting variables needed for prediction\n",
    "caffeine_selected <- caffeine %>%\n",
    "        mutate(type = as_factor(type)) %>%\n",
    "        select(Calories, Caffeine..mg., type)"
   ]
  },
  {
   "cell_type": "code",
   "execution_count": 10,
   "metadata": {},
   "outputs": [
    {
     "data": {
      "text/html": [
       "<style>\n",
       ".list-inline {list-style: none; margin:0; padding: 0}\n",
       ".list-inline>li {display: inline-block}\n",
       ".list-inline>li:not(:last-child)::after {content: \"\\00b7\"; padding: 0 .5ex}\n",
       "</style>\n",
       "<ol class=list-inline><li>'Coffee'</li><li>'Energy Drinks'</li><li>'Energy Shots'</li><li>'Soft Drinks'</li><li>'Tea'</li><li>'Water'</li></ol>\n"
      ],
      "text/latex": [
       "\\begin{enumerate*}\n",
       "\\item 'Coffee'\n",
       "\\item 'Energy Drinks'\n",
       "\\item 'Energy Shots'\n",
       "\\item 'Soft Drinks'\n",
       "\\item 'Tea'\n",
       "\\item 'Water'\n",
       "\\end{enumerate*}\n"
      ],
      "text/markdown": [
       "1. 'Coffee'\n",
       "2. 'Energy Drinks'\n",
       "3. 'Energy Shots'\n",
       "4. 'Soft Drinks'\n",
       "5. 'Tea'\n",
       "6. 'Water'\n",
       "\n",
       "\n"
      ],
      "text/plain": [
       "[1] \"Coffee\"        \"Energy Drinks\" \"Energy Shots\"  \"Soft Drinks\"  \n",
       "[5] \"Tea\"           \"Water\"        "
      ]
     },
     "metadata": {},
     "output_type": "display_data"
    },
    {
     "ename": "ERROR",
     "evalue": "Error in eval(lhs, parent, parent): object 'type' not found\n",
     "output_type": "error",
     "traceback": [
      "Error in eval(lhs, parent, parent): object 'type' not found\nTraceback:\n",
      "1. type %>% group_by(type) %>% summarize(count = n(), percentage = n()/caffiene_obs * \n .     100)",
      "2. eval(lhs, parent, parent)",
      "3. eval(lhs, parent, parent)"
     ]
    }
   ],
   "source": [
    "#returning each categroy in the column\n",
    "caffiene_pull = caffeine_selected %>%\n",
    "    pull(type) %>%\n",
    "    levels()\n",
    "caffiene_pull\n",
    "\n",
    "#creates a chart that shows the variables with counts and percentages \n",
    "caffiene_obs = nrow(caffeine)\n",
    "    type %>%\n",
    "    group_by(type) %>% \n",
    "    summarize(\n",
    "        count = n(),\n",
    "        percentage = n() / caffiene_obs * 100 )"
   ]
  },
  {
   "cell_type": "code",
   "execution_count": null,
   "metadata": {},
   "outputs": [],
   "source": [
    "#creating a training set and splitting the data into 75% training, and 25% testing\n",
    "caffeine_split <- initial_split(caffeine_selected, prop = 0.75, strata = type)\n",
    "caffeine_train <- training(caffeine_split)\n",
    "caffeine_test <- testing(caffeine_split)\n",
    "\n",
    "caffeine_test\n",
    "\n",
    "#creating classification K nearest neighbours\n",
    "knn_spec <- nearest_neighbor(weight_func= \"rectangular\", neighbors = tune()) %>%\n",
    "    set_engine (\"kknn\") %>%\n",
    "    set_mode(\"classification\")\n",
    "\n",
    "#standardizing data\n",
    "caffeine_recipe <- recipe(type ~ ., data = data) %>%\n",
    "  step_scale(all_predictors()) %>%\n",
    "  step_center(all_predictors())\n",
    "\n",
    "#creating folds within training set\n",
    "caffeine_vfold <- vfold_cv(caffeine_train, v = 5, strata = type)\n",
    "\n",
    "#creating workflow\n",
    "knn_results <- workflow() %>%\n",
    "  add_recipe(caffeine_recipe) %>%\n",
    "  add_model(knn_spec) %>%\n",
    "  tunegrid(resamples = caffeine_vfold, grid = 10) %>%\n",
    "  collect_metrics()\n",
    "\n",
    "#checking the accuracy from the workflow\n",
    "accuracies <- knn_results %>%\n",
    "  filter(.metric == \"accuracy\")\n",
    "\n",
    "accuracies\n"
   ]
  },
  {
   "cell_type": "code",
   "execution_count": null,
   "metadata": {},
   "outputs": [],
   "source": [
    "#creating scatter plot for caffiene and volume\n",
    "caffiene_plot = caffeine %>%\n",
    "    ggplot(aes(x = Caffeine..mg., y = Calories, color = type)) +\n",
    "    geom_point(alpha = 0.5) +\n",
    "    labs(x = \"Caffiene (mg)\", y=\"Calories\",color = \"Type of Drink\") +\n",
    "    theme(text = element_text(size = 12))\n",
    "\n",
    "caffiene_plot"
   ]
  },
  {
   "cell_type": "code",
   "execution_count": null,
   "metadata": {},
   "outputs": [],
   "source": []
  },
  {
   "cell_type": "code",
   "execution_count": null,
   "metadata": {},
   "outputs": [],
   "source": []
  }
 ],
 "metadata": {
  "kernelspec": {
   "display_name": "R",
   "language": "R",
   "name": "ir"
  },
  "language_info": {
   "codemirror_mode": "r",
   "file_extension": ".r",
   "mimetype": "text/x-r-source",
   "name": "R",
   "pygments_lexer": "r",
   "version": "4.0.0"
  }
 },
 "nbformat": 4,
 "nbformat_minor": 4
}
